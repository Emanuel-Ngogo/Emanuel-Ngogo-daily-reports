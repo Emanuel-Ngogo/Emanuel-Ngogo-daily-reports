{
 "cells": [
  {
   "cell_type": "markdown",
   "id": "cf128298-4979-4918-890b-fdc3f37378e0",
   "metadata": {},
   "source": [
    "### AFRICAN INSTITUTE FOR MATHEMATICAL SCIENCE (AIMS) - RWANDA\n",
    "## PYTHON PROGRAMMING (PP)\n",
    "## DAILY REPORT PRACTICAL WORK\n",
    "## NAME: EMANUEL JOSEPH NGOGO"
   ]
  },
  {
   "cell_type": "markdown",
   "id": "53b9f1ad-2bc0-4911-93e7-009242f1050d",
   "metadata": {},
   "source": [
    "Question 01:\n",
    "Compute the following expressions for a natural number n chosen by the user:"
   ]
  },
  {
   "cell_type": "code",
   "execution_count": 29,
   "id": "43bfdf31-47f3-4252-830f-8180c3f8826a",
   "metadata": {},
   "outputs": [
    {
     "name": "stdin",
     "output_type": "stream",
     "text": [
      "enter a number n 4\n"
     ]
    },
    {
     "name": "stdout",
     "output_type": "stream",
     "text": [
      "10\n"
     ]
    }
   ],
   "source": [
    "counter = int(input(\"enter a number n\"))\n",
    "summ = 0\n",
    "\n",
    "for i in range(counter):\n",
    "    if (i%2 == 1):\n",
    "        c = i + 3\n",
    "        summ = summ + c\n",
    "print(summ)"
   ]
  },
  {
   "cell_type": "code",
   "execution_count": 7,
   "id": "c4fffd0d-ad39-4f22-812d-b8cf94c6052b",
   "metadata": {},
   "outputs": [
    {
     "name": "stdin",
     "output_type": "stream",
     "text": [
      "enter a number n 5\n"
     ]
    },
    {
     "name": "stdout",
     "output_type": "stream",
     "text": [
      "105\n"
     ]
    }
   ],
   "source": [
    "# for even number\n",
    "counter1 = int(input(\"enter a number n\"))\n",
    "product = 1 \n",
    "for i in range(counter1):\n",
    "    if (i%2 == 0):\n",
    "        product*=(i+3)\n",
    "print(product)\n",
    "        \n"
   ]
  },
  {
   "cell_type": "markdown",
   "id": "add1f21c-8351-4322-baab-92897514f5f3",
   "metadata": {},
   "source": [
    "Question 02:\n",
    "Write a program that reads the number of the day of the week (from 0 to 6). If it is aworking day, then the program will write the name of the corresponding day. Otherwise,it will write the word \"Weekend\""
   ]
  },
  {
   "cell_type": "code",
   "execution_count": 41,
   "id": "7a4949db-209b-4aa1-b09e-05684d9c37bf",
   "metadata": {},
   "outputs": [
    {
     "name": "stdin",
     "output_type": "stream",
     "text": [
      "enter the number of the day 4\n"
     ]
    },
    {
     "name": "stdout",
     "output_type": "stream",
     "text": [
      "Friday\n"
     ]
    }
   ],
   "source": [
    "day = int(input(\"enter the number of the day\"))\n",
    "if (day == 0):\n",
    "    print(\"Monday\")\n",
    "if (day == 1):\n",
    "    print(\"Tuesday\")\n",
    "if (day == 2):\n",
    "    print(\"Wednesday\")\n",
    "if (day == 3):\n",
    "    print(\"Thursday\")\n",
    "if (day == 4):\n",
    "    print(\"Friday\")\n",
    "if (day == 5):\n",
    "    print(\"Saturday\")\n",
    "if (day == 6):\n",
    "    print(\"Sunday\")\n",
    "\n",
    "\n",
    "    \n",
    "\n",
    "                "
   ]
  },
  {
   "cell_type": "markdown",
   "id": "6ccdad52-9d81-4bea-a369-72d58b407b71",
   "metadata": {},
   "source": [
    "Question 03:\n",
    "Make a program that, given a month number (from 0 to 11), indicates how many days it has (28, 30 or 31), ignoring the leap years"
   ]
  },
  {
   "cell_type": "code",
   "execution_count": 42,
   "id": "b5721bf3-4af9-43b4-b716-f7dcf33d0d92",
   "metadata": {},
   "outputs": [
    {
     "name": "stdin",
     "output_type": "stream",
     "text": [
      "enter the number of days 30\n"
     ]
    },
    {
     "name": "stdout",
     "output_type": "stream",
     "text": [
      "April\n",
      "June\n",
      "September\n",
      "October\n"
     ]
    }
   ],
   "source": [
    "days = int(input(\"enter the number of days\"))\n",
    "if (days == 31):\n",
    "    print(\"January\")\n",
    "if (days == 29):\n",
    "    print(\"February\")\n",
    "if (days == 31):\n",
    "    print(\"march\")\n",
    "if (days == 30):\n",
    "    print(\"April\")\n",
    "if (days == 31):\n",
    "    print(\"May\")\n",
    "if (days == 30):\n",
    "    print(\"June\")\n",
    "if (days == 31):\n",
    "    print(\"July\")\n",
    "if (days == 31):\n",
    "    print(\"August\")\n",
    "if (days == 30):\n",
    "    print(\"September\")\n",
    "if (days == 30):\n",
    "    print(\"October\")\n",
    "if (days == 31):\n",
    "    print(\"November\")\n",
    "    "
   ]
  },
  {
   "cell_type": "markdown",
   "id": "babeb3c5-1fba-48d1-abd7-805110d9e606",
   "metadata": {},
   "source": [
    "Question 04:\n",
    "Write two versions of python code that displays your name 3 times. One version with a\"for loop\" and another version with a \"while loop\"."
   ]
  },
  {
   "cell_type": "code",
   "execution_count": 1,
   "id": "f479fafd-a25e-4031-b4f0-99c869eb31c4",
   "metadata": {},
   "outputs": [
    {
     "name": "stdout",
     "output_type": "stream",
     "text": [
      "Ngogo\n",
      "Ngogo\n",
      "Ngogo\n"
     ]
    }
   ],
   "source": [
    "# printing a name using \"for loop\"\n",
    "name = \"Ngogo\"\n",
    "for i in range (3):\n",
    "    print(name)\n",
    "\n"
   ]
  },
  {
   "cell_type": "code",
   "execution_count": 2,
   "id": "2753e837-677f-49eb-9e0e-b6f258cbeb1a",
   "metadata": {},
   "outputs": [
    {
     "name": "stdout",
     "output_type": "stream",
     "text": [
      "Ngogo\n",
      "Ngogo\n",
      "Ngogo\n"
     ]
    }
   ],
   "source": [
    "# printing a name by using a \"while loop\"\n",
    "name = \"Ngogo\"\n",
    "count = 0\n",
    "while count < 3:\n",
    "    print(name)\n",
    "    count +=1year = int(input(\"enter the year\"))\n",
    "if  (\"year % 4 == 0\" and \"year%100!=0)\" or \"year % 400 == 0\"):\n",
    "    print(\"it is the leap year\")\n",
    "else:\n",
    "    print(\"it is not the leap year\")\n",
    "    "
   ]
  },
  {
   "cell_type": "markdown",
   "id": "e7818687-9b95-4091-b7c3-17175c2e8257",
   "metadata": {},
   "source": [
    "Question 05:\n",
    "Given two numbers a 0 and a 1 , the Fibonacci sequence they generate is constructed from the recursion formula a n+1 = a n + a n−1 . \n",
    "Calculate the first 15 terms of a Fibonacci sequence, asking the user the initial values."
   ]
  },
  {
   "cell_type": "code",
   "execution_count": 4,
   "id": "728dfc18-cd97-498b-b72b-f2e6110199d3",
   "metadata": {
    "scrolled": true
   },
   "outputs": [
    {
     "name": "stdin",
     "output_type": "stream",
     "text": [
      "enter the value of x 1\n",
      "enter the value of y 2\n"
     ]
    },
    {
     "name": "stdout",
     "output_type": "stream",
     "text": [
      "3\n",
      "5\n",
      "8\n",
      "13\n",
      "21\n",
      "34\n",
      "55\n",
      "89\n",
      "144\n",
      "233\n",
      "377\n",
      "610\n",
      "987\n"
     ]
    }
   ],
   "source": [
    "x = int(input(\"enter the value of x\"))\n",
    "y = int(input(\"enter the value of y\"))\n",
    "for i in range(2,15):\n",
    "    next_value = x + y\n",
    "    print(next_value)\n",
    "    x = y\n",
    "    y = next_value\n",
    "    \n"
   ]
  },
  {
   "cell_type": "markdown",
   "id": "3f47f553-9ec0-4c8f-b769-3b44a8b52821",
   "metadata": {},
   "source": [
    "Question 06:\n",
    "Compute the first 30 terms of the sequence defined by $ 2x_{n+2} − x_{n+1} − 6x_n= 0 $sequence, given any two initial values x 0 and x 1"
   ]
  },
  {
   "cell_type": "code",
   "execution_count": 4,
   "id": "354b33c6-f257-4d91-985c-e211532f25a8",
   "metadata": {},
   "outputs": [
    {
     "name": "stdin",
     "output_type": "stream",
     "text": [
      "enter the value of p 1\n",
      "enter the value of q 0\n"
     ]
    },
    {
     "name": "stdout",
     "output_type": "stream",
     "text": [
      "0.5\n",
      "3.25\n",
      "3.125\n",
      "11.3125\n",
      "15.03125\n",
      "41.453125\n",
      "65.8203125\n",
      "157.26953125\n",
      "276.095703125\n",
      "609.8564453125\n",
      "1133.21533203125\n",
      "2396.177001953125\n",
      "4597.7344970703125\n",
      "9487.398254394531\n",
      "18536.902618408203\n",
      "37730.646072387695\n",
      "74476.03089141846\n",
      "150429.9536628723\n",
      "298643.0695056915\n",
      "600611.3957414627\n",
      "1196234.906387806\n",
      "2399951.640418291\n",
      "4788680.539372563\n",
      "9594195.190941155\n",
      "19163139.213588268\n",
      "38364155.1796176\n",
      "76671495.2305736\n",
      "153428213.15413958\n",
      "306728592.2687906\n",
      "613648935.596814\n"
     ]
    }
   ],
   "source": [
    "p =int(input(\"enter the value of p\"))\n",
    "q =int(input(\"enter the value of q\"))\n",
    "n = 30\n",
    "for i in range(30):\n",
    "    next_value = (0.5)*p + 3*q\n",
    "    q = p\n",
    "    p = next_value\n",
    "    print(next_value)\n"
   ]
  },
  {
   "cell_type": "markdown",
   "id": "400bf02f-897c-4d19-a60e-e4d25ca26c5c",
   "metadata": {},
   "source": [
    "Question 07:\n",
    "a) Write python code to determine whether or not a year is a leap year. Be sure you know what a leap year is.\n",
    "b) Write the code using only logical operators, i.e. no conditional branching.\n"
   ]
  },
  {
   "cell_type": "code",
   "execution_count": 2,
   "id": "5d3886d6-2404-421e-8d63-41ad579741a1",
   "metadata": {},
   "outputs": [
    {
     "name": "stdin",
     "output_type": "stream",
     "text": [
      "enter the year 2024\n"
     ]
    },
    {
     "name": "stdout",
     "output_type": "stream",
     "text": [
      "it is the leap year\n"
     ]
    }
   ],
   "source": [
    "year = int(input(\"enter the year\"))\n",
    "if  (\"year % 4 == 0\" and \"year%100!=0)\" or \"year % 400 == 0\"):\n",
    "    print(\"it is the leap year\")\n",
    "else:\n",
    "    print(\"it is not the leap year\")"
   ]
  },
  {
   "cell_type": "markdown",
   "id": "da8c8542-8a0a-464c-852a-96921c456e12",
   "metadata": {},
   "source": [
    "b) Write the code using only logical operators, i.e. no conditional branching."
   ]
  },
  {
   "cell_type": "code",
   "execution_count": 13,
   "id": "1b6908c6-1ef4-4692-97cb-b85b81369468",
   "metadata": {},
   "outputs": [
    {
     "name": "stdin",
     "output_type": "stream",
     "text": [
      "enter the year you want 2035\n"
     ]
    },
    {
     "name": "stdout",
     "output_type": "stream",
     "text": [
      "False\n"
     ]
    }
   ],
   "source": [
    "year = int(input(\"enter the year you want\"))\n",
    "print((year % 4 == 0 and year % 100 != 0) or (year % 400 ==0)) \n",
    "                 "
   ]
  },
  {
   "cell_type": "markdown",
   "id": "49953a69-de22-4258-ae9b-241eb24c600c",
   "metadata": {},
   "source": [
    "Question 08:\n",
    "a) Write python code that computes the sum of the square of the first n natural numbers. One version with a \"for loop\" and another version with a \"while loop\"."
   ]
  },
  {
   "cell_type": "code",
   "execution_count": 6,
   "id": "14b5a4d0-832d-4ebd-af32-5e04314a13f7",
   "metadata": {},
   "outputs": [
    {
     "name": "stdin",
     "output_type": "stream",
     "text": [
      "enter a number 4\n"
     ]
    },
    {
     "name": "stdout",
     "output_type": "stream",
     "text": [
      "30\n"
     ]
    }
   ],
   "source": [
    "# consider \"for loop\"\n",
    "z = int(input(\"enter a number\"))\n",
    "summation =0\n",
    "for i in range(z+1):\n",
    "    summation = summation+i**2\n",
    "print(summation)\n"
   ]
  },
  {
   "cell_type": "code",
   "execution_count": 2,
   "id": "4a1aa50c-e13c-4a28-a567-3d4ac532a6d2",
   "metadata": {},
   "outputs": [
    {
     "name": "stdin",
     "output_type": "stream",
     "text": [
      "enter a number 10\n"
     ]
    },
    {
     "name": "stdout",
     "output_type": "stream",
     "text": [
      "385\n"
     ]
    }
   ],
   "source": [
    "# consider for a \"while loop\"\n",
    "k =int(input(\"enter a number\"))\n",
    "summ = 0\n",
    "i =1\n",
    "while i <= k:\n",
    "    summ = summ + i**2\n",
    "    i = i + 1\n",
    "print(summ)"
   ]
  },
  {
   "cell_type": "markdown",
   "id": "cb94bf07-1d60-4930-bfa0-89eb87de20af",
   "metadata": {},
   "source": [
    "b) Write python code that prints, for a natural number M , the smallest natural numbern such that 1 2 + 2 2 + · · · + n 2 ≥ M. One version with a \"for loop\" and another version with a \"while loop\"."
   ]
  },
  {
   "cell_type": "code",
   "execution_count": 5,
   "id": "cfaf6b7e-87a7-4bfb-a5ef-1ff9cd5a599b",
   "metadata": {},
   "outputs": [
    {
     "name": "stdin",
     "output_type": "stream",
     "text": [
      "enter a natural number 5\n"
     ]
    },
    {
     "name": "stdout",
     "output_type": "stream",
     "text": [
      "n is 2\n"
     ]
    }
   ],
   "source": [
    "# consider a \"for loop\"\n",
    "m = int(input(\"enter a natural number\"))\n",
    "total = 0\n",
    "for i in range(m+1):\n",
    "    total = total + i**2\n",
    "    if (total >= m):\n",
    "        break\n",
    "print(\"n is\", i)"
   ]
  },
  {
   "cell_type": "code",
   "execution_count": 10,
   "id": "d3bc9907-28c2-4956-95c8-1c095bf23fc0",
   "metadata": {},
   "outputs": [
    {
     "name": "stdin",
     "output_type": "stream",
     "text": [
      "enter natural number 5\n"
     ]
    },
    {
     "name": "stdout",
     "output_type": "stream",
     "text": [
      "n is 7\n"
     ]
    }
   ],
   "source": [
    "# consider for \"while loop\"\n",
    "v =int(input(\"enter natural number\"))\n",
    "total = 0\n",
    "while total <= v:\n",
    "    total = total + i**2\n",
    "    i = i +1\n",
    "    if total >= v:\n",
    "        break\n",
    "print(\"n is\", i)\n",
    "    "
   ]
  },
  {
   "cell_type": "markdown",
   "id": "32f79d23-5e94-4cde-993c-373f3f221f38",
   "metadata": {},
   "source": [
    "Question 09:\n",
    "a) Write python code that prints all the divisors of a given natural number"
   ]
  },
  {
   "cell_type": "code",
   "execution_count": 13,
   "id": "9a91b79c-1d61-4a1a-b928-0f3b1a597fa6",
   "metadata": {},
   "outputs": [
    {
     "name": "stdin",
     "output_type": "stream",
     "text": [
      "enter natural number 4\n"
     ]
    },
    {
     "name": "stdout",
     "output_type": "stream",
     "text": [
      "[1, 2]\n"
     ]
    }
   ],
   "source": [
    "number = int(input(\"enter natural number\"))\n",
    "y = []\n",
    "for i in range(1, number):\n",
    "    if number % i == 0:\n",
    "        y.append(i)\n",
    "print(y)"
   ]
  },
  {
   "cell_type": "markdown",
   "id": "4cb89f93-8066-4eee-9fbf-b5a52dba0f61",
   "metadata": {},
   "source": [
    "b) Read an integer number input by the user and calculate its prime factors. This will just be some of its divisors."
   ]
  },
  {
   "cell_type": "code",
   "execution_count": 1,
   "id": "910419e8-fba5-43e6-9caa-18b9c8d699a6",
   "metadata": {},
   "outputs": [
    {
     "ename": "SyntaxError",
     "evalue": "invalid syntax (3663096808.py, line 11)",
     "output_type": "error",
     "traceback": [
      "\u001b[0;36m  Cell \u001b[0;32mIn[1], line 11\u001b[0;36m\u001b[0m\n\u001b[0;31m    else:\u001b[0m\n\u001b[0m    ^\u001b[0m\n\u001b[0;31mSyntaxError\u001b[0m\u001b[0;31m:\u001b[0m invalid syntax\n"
     ]
    }
   ],
   "source": [
    "integer =int(input(\"enter a number greater than 1: \"))\n",
    "if integer > 1:\n",
    "    divisor = 2\n",
    "    factors = []\n",
    "while integer > 1:\n",
    "    while integer % divisor == 0:\n",
    "        factors.append(divisor)\n",
    "        integer //= divisor\n",
    "        divisor += 1\n",
    "print(factors)\n",
    "else:\n",
    "print(\"enter the integer greater than 1.\")"
   ]
  },
  {
   "cell_type": "markdown",
   "id": "4d2120fc-254d-429b-ad16-ec59c0057c8e",
   "metadata": {},
   "source": [
    "Question 10:\n",
    "Read an integer number between n 0 and 9 and print its multiplication table up to N where N is another another natural number read by the program."
   ]
  },
  {
   "cell_type": "code",
   "execution_count": 2,
   "id": "b1ae41ae-73d1-4b39-9b32-3a3ce2e0bec7",
   "metadata": {},
   "outputs": [
    {
     "name": "stdin",
     "output_type": "stream",
     "text": [
      "enter an enteger 4\n"
     ]
    },
    {
     "name": "stdout",
     "output_type": "stream",
     "text": [
      "4 x 4 = 16\n"
     ]
    }
   ],
   "source": [
    "num = int(input(\"enter an enteger\"))\n",
    "number = range(0,10)\n",
    "for number in range(num + 1):\n",
    "    product = number * num\n",
    "print(f\"{number} x {num} = {product}\")"
   ]
  }
 ],
 "metadata": {
  "kernelspec": {
   "display_name": "Python 3 (ipykernel)",
   "language": "python",
   "name": "python3"
  },
  "language_info": {
   "codemirror_mode": {
    "name": "ipython",
    "version": 3
   },
   "file_extension": ".py",
   "mimetype": "text/x-python",
   "name": "python",
   "nbconvert_exporter": "python",
   "pygments_lexer": "ipython3",
   "version": "3.9.2"
  }
 },
 "nbformat": 4,
 "nbformat_minor": 5
}
