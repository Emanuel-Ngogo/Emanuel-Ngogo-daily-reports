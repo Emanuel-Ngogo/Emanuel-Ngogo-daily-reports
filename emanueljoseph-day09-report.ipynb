{
 "cells": [
  {
   "cell_type": "markdown",
   "id": "2ec25524-b874-488b-aaa2-edb15d816aa9",
   "metadata": {},
   "source": [
    "1. Create a function `find_max()` that accepts two numeric inputs and returns the greater value. Avoid using the built-in `max()` function."
   ]
  },
  {
   "cell_type": "code",
   "execution_count": 21,
   "id": "97baff0e-e9ed-4479-ba75-36f88b235869",
   "metadata": {},
   "outputs": [
    {
     "name": "stdin",
     "output_type": "stream",
     "text": [
      "enter the value of a:  8\n",
      "eneter the value of b:  3\n"
     ]
    },
    {
     "name": "stdout",
     "output_type": "stream",
     "text": [
      "8\n"
     ]
    }
   ],
   "source": [
    "def max_number(a,b):\n",
    "    \"\"\" This function show how to check a maximum number between two \"\"\"\n",
    "    if a > b:\n",
    "        print(a)\n",
    "    elif b > a:\n",
    "        print(b)\n",
    "a = int(input(\"enter the value of a: \"))\n",
    "b = int(input(\"eneter the value of b: \"))        \n",
    "max_number(a,b)        \n",
    "\n"
   ]
  },
  {
   "cell_type": "markdown",
   "id": "f904def7-8b0e-4ec0-b0c1-87600d501e6d",
   "metadata": {},
   "source": [
    "2. Develop a function `find_max_of_three()` to find the maximum among three given numbers."
   ]
  },
  {
   "cell_type": "code",
   "execution_count": 28,
   "id": "bd30da0c-99f9-44d9-826f-e54bb4e24219",
   "metadata": {},
   "outputs": [
    {
     "name": "stdin",
     "output_type": "stream",
     "text": [
      "enter the value of a:  3\n",
      "enter the value of b:  4\n",
      "enter the value of c:  7\n"
     ]
    },
    {
     "name": "stdout",
     "output_type": "stream",
     "text": [
      "7\n"
     ]
    }
   ],
   "source": [
    "def find_max_of_three(a,b,c):\n",
    "    \"\"\" This function show how to check a maximum number\"\"\"\n",
    "    if a > b and a > c:\n",
    "        print(a)\n",
    "    elif b >a and b >c:\n",
    "        print(b)\n",
    "    else:\n",
    "        print(c)\n",
    "a = int(input(\"enter the value of a: \"))\n",
    "b = int(input(\"enter the value of b: \"))\n",
    "c = int(input(\"enter the value of c: \"))\n",
    "find_max_of_three(a,b,c)\n"
   ]
  },
  {
   "cell_type": "markdown",
   "id": "5cc9df86-2acf-4762-b400-b3647fb071bf",
   "metadata": {},
   "source": [
    "3. Write a function to manually calculate the length of a given list or string without using `len()`."
   ]
  },
  {
   "cell_type": "code",
   "execution_count": 27,
   "id": "0c1efec4-4874-43f7-a53f-625cbb886a2f",
   "metadata": {},
   "outputs": [
    {
     "data": {
      "text/plain": [
       "5"
      ]
     },
     "execution_count": 27,
     "metadata": {},
     "output_type": "execute_result"
    }
   ],
   "source": [
    "lis = [2, 3, 5, \"mango\", 8]\n",
    "\"\"\" This function is to find the length of a string\"\"\"\n",
    "len(lis)"
   ]
  },
  {
   "cell_type": "markdown",
   "id": "319bb6db-a71a-4c4a-b8f9-f2eb621af7cb",
   "metadata": {},
   "source": [
    "4. Implement a function that checks if a given character is a vowel (a, e, i, o, u)."
   ]
  },
  {
   "cell_type": "code",
   "execution_count": 2,
   "id": "81acf54f-2c95-4260-9fe1-4d46935a1667",
   "metadata": {},
   "outputs": [
    {
     "name": "stdin",
     "output_type": "stream",
     "text": [
      "enter the value of x:  p\n"
     ]
    },
    {
     "name": "stdout",
     "output_type": "stream",
     "text": [
      "it is not a vowel\n"
     ]
    }
   ],
   "source": [
    "def is_a_vowel(x):\n",
    "    \"\"\" This function show how if a given character is a vowel\"\"\"\n",
    "    if  (x == 'a' or x == 'e' or x == 'i' or x == 'o' or x == 'u'):\n",
    "        print(\"it is a vowel\")\n",
    "    else:\n",
    "        print(\"it is not a vowel\")\n",
    "x = input(\"enter the value of x: \")\n",
    "is_a_vowel(x)\n",
    "    \n",
    "    \n",
    "    "
   ]
  },
  {
   "cell_type": "markdown",
   "id": "c0cb2f11-5f22-4cfa-a79a-f6cd63b7a93d",
   "metadata": {},
   "source": [
    "5. Write a function `encode()` that converts a string into \"rövarspråket\" ([robber's language](https://en.wikipedia.org/wiki/R%C3%B6varspr%C3"
   ]
  },
  {
   "cell_type": "code",
   "execution_count": 6,
   "id": "7ba5e8c6-e5ca-4e24-a4c2-deb0ca4c9dbc",
   "metadata": {},
   "outputs": [
    {
     "name": "stdin",
     "output_type": "stream",
     "text": [
      "enter any word hellow\n"
     ]
    },
    {
     "data": {
      "text/plain": [
       "'hohelollolowow'"
      ]
     },
     "execution_count": 6,
     "metadata": {},
     "output_type": "execute_result"
    }
   ],
   "source": [
    "def encode(word):\n",
    "    \"\"\" This function is to convert a string into another language\"\"\"\n",
    "    vowels = \"aeiouAEIOU\"\n",
    "    encoded_word = \"\"\n",
    "\n",
    "    for char in word:\n",
    "        if char.isalpha() and char not in vowels:\n",
    "            # If is consonant, double it and in between put 'o'\n",
    "            encoded_word += char + \"o\" + char\n",
    "        else:\n",
    "            # If it's a vowel or non-alphabetic character, add it as is\n",
    "            encoded_word += char\n",
    "\n",
    "    return encoded_word\n",
    "word = input(\"enter any word\")\n",
    "encode(word)\n",
    "    "
   ]
  },
  {
   "cell_type": "markdown",
   "id": "321d8e20-7b6e-4ffc-94d7-cece911711b1",
   "metadata": {},
   "source": [
    "6. Create `sum_elements()` and `product_elements()` functions to sum and multiply all elements in a list, respectively."
   ]
  },
  {
   "cell_type": "code",
   "execution_count": 30,
   "id": "2be93d39-a0a2-4bac-90ec-3df554ebf7d8",
   "metadata": {},
   "outputs": [
    {
     "name": "stdout",
     "output_type": "stream",
     "text": [
      "The sum of elements in a list is 20\n",
      "The product of elements in a list is: 384\n"
     ]
    }
   ],
   "source": [
    "def sum_elements(lis):\n",
    "    \"\"\" This function is to sum and multiply all elements in a list\"\"\"\n",
    "    summ = 0\n",
    "    for i in lis:\n",
    "        summ +=i\n",
    "    print(\"The sum of elements in a list is\", summ)\n",
    "\n",
    "def product_elements(lis):\n",
    "    product = 1\n",
    "    for i in lis:\n",
    "        product *=i\n",
    "    print(\"The product of elements in a list is:\", product)\n",
    "sum_elements([2,4,6,8])\n",
    "product_elements([2,4,6,8])\n",
    "    \n"
   ]
  },
  {
   "cell_type": "markdown",
   "id": "0f9c3257-fb92-426d-8832-56567236c6b4",
   "metadata": {},
   "source": [
    "7. Define a function `reverse_string()` to reverse the characters in a given string.\n"
   ]
  },
  {
   "cell_type": "code",
   "execution_count": 39,
   "id": "9e12e5c2-1604-46fc-90f7-d148ab6c4842",
   "metadata": {},
   "outputs": [
    {
     "name": "stdin",
     "output_type": "stream",
     "text": [
      "enter the value of s:  Emanuel\n"
     ]
    },
    {
     "name": "stdout",
     "output_type": "stream",
     "text": [
      "False\n"
     ]
    }
   ],
   "source": [
    "def reverse_string():\n",
    "    \"\"\" This function is to reverse a string\"\"\"\n",
    "    s = input(\"enter the value of s: \")\n",
    "    if s == s[:: -1]:\n",
    "        print('True')\n",
    "    else:\n",
    "        print(\"False\")\n",
    "        \n",
    "    \n",
    "reverse_string()"
   ]
  },
  {
   "cell_type": "code",
   "execution_count": null,
   "id": "88964cf4-a5b7-43e4-9abb-3a872a64eca6",
   "metadata": {},
   "outputs": [],
   "source": [
    "def check"
   ]
  },
  {
   "cell_type": "markdown",
   "id": "37d5c9b4-84b6-46f9-8f0a-e7963a5389d8",
   "metadata": {},
   "source": [
    "8. Implement `check_palindrome()` to verify if a string reads the same forwards and backwards, i.e. is a [palindrome](https://en.wikipedia.org/wiki/Palindrome).\n"
   ]
  },
  {
   "cell_type": "code",
   "execution_count": 42,
   "id": "e6b58d5e-3149-4866-a556-762a4528d343",
   "metadata": {},
   "outputs": [
    {
     "name": "stdin",
     "output_type": "stream",
     "text": [
      "enter the value of s:  refer\n"
     ]
    },
    {
     "name": "stdout",
     "output_type": "stream",
     "text": [
      "True\n"
     ]
    }
   ],
   "source": [
    "def check_palindrome():\n",
    "    \"\"\" This function is to check if a word show a palindrome\"\"\"\n",
    "    s = input(\"enter the value of s: \")\n",
    "    if s == s[:: -1]:\n",
    "        print(\"True\")\n",
    "    else:\n",
    "        print(\"False\")\n",
    "check_palindrome()\n"
   ]
  },
  {
   "cell_type": "markdown",
   "id": "8b8e2703-ef7d-4af2-8e18-f933721a3a34",
   "metadata": {},
   "source": [
    "9. Develop a function `check_membership()` to determine if a value exists within a list."
   ]
  },
  {
   "cell_type": "code",
   "execution_count": 45,
   "id": "ab7431a6-f6e5-4294-a2c9-a63b4566d479",
   "metadata": {},
   "outputs": [
    {
     "name": "stdout",
     "output_type": "stream",
     "text": [
      "exist\n"
     ]
    }
   ],
   "source": [
    "def check_membership(lis2, i):\n",
    "    \"\"\"This function checks if a value exists within a list\"\"\"\n",
    "    if i in lis2:\n",
    "        print(\"exist\")\n",
    "    else:\n",
    "        print(\"not exist\")\n",
    "\n",
    "# consider a list\n",
    "lis2 = [2, 3, 4, 5, 6]\n",
    "i = 3\n",
    "check_membership(lis2, i)\n",
    "\n"
   ]
  },
  {
   "cell_type": "markdown",
   "id": "c7f0c253-dfef-4394-af29-1172b4df480a",
   "metadata": {},
   "source": [
    "10. Write `check_overlap()` to identify if two lists share any elements.\n"
   ]
  },
  {
   "cell_type": "code",
   "execution_count": 2,
   "id": "7e9f519e-1ca6-40af-9aa8-c1d5369e5695",
   "metadata": {},
   "outputs": [
    {
     "name": "stdout",
     "output_type": "stream",
     "text": [
      "[2, 4, 6]\n"
     ]
    }
   ],
   "source": [
    "def check_overlap(lis1,lis2):\n",
    "    \"\"\"This function identify whether two list share any elements\"\"\"\n",
    "    lis3 = [value for value in lis1 if value in lis2]\n",
    "    return lis3\n",
    "# consider the two lists of elements\n",
    "lis1 = [1,2,3,4,5,6]\n",
    "lis2 = [2,4,6,8,10]\n",
    "print(check_overlap(lis1,lis2))\n",
    "    \n"
   ]
  },
  {
   "cell_type": "markdown",
   "id": "abd2be91-5010-47a6-afcf-72220ee0b308",
   "metadata": {},
   "source": [
    "11. Implement `repeat_char()` that generates a string with a specified character repeated `n` times."
   ]
  },
  {
   "cell_type": "code",
   "execution_count": 3,
   "id": "f6de651b-583e-43d8-8fda-6a470d19c923",
   "metadata": {},
   "outputs": [
    {
     "name": "stdout",
     "output_type": "stream",
     "text": [
      "trusttrusttrust\n"
     ]
    }
   ],
   "source": [
    "def repeat_char(r,n):\n",
    "    \"\"\"This function generates a string with specified repeated character\"\"\"\n",
    "    result = r * 3\n",
    "    return result\n",
    "# consider a string below\n",
    "r = \"trust\"\n",
    "n = 3\n",
    "print(repeat_char(r,n))\n",
    "    "
   ]
  },
  {
   "cell_type": "markdown",
   "id": "81a00651-51d6-400c-8567-1f28126c3383",
   "metadata": {},
   "source": [
    "12. Create a function `print_histogram()` that takes a list of integers and prints a corresponding histogram."
   ]
  },
  {
   "cell_type": "code",
   "execution_count": 48,
   "id": "22010211-7471-42ed-ac31-2de32f4d596f",
   "metadata": {
    "scrolled": true
   },
   "outputs": [
    {
     "data": {
      "text/plain": [
       "(array([3., 0., 2., 1., 1., 3., 0., 0., 0., 1.]),\n",
       " array([ 2. ,  7.4, 12.8, 18.2, 23.6, 29. , 34.4, 39.8, 45.2, 50.6, 56. ]),\n",
       " <BarContainer object of 10 artists>)"
      ]
     },
     "execution_count": 48,
     "metadata": {},
     "output_type": "execute_result"
    },
    {
     "data": {
      "image/png": "[encoded data removed]",
      "text/plain": [
       "<Figure size 640x480 with 1 Axes>"
      ]
     },
     "metadata": {},
     "output_type": "display_data"
    }
   ],
   "source": [
    "import matplotlib.pyplot as plt\n",
    "m = [2,7, 5, 17, 25, 30, 56, 34,15, 20,30]\n",
    "plt.hist(m)\n"
   ]
  },
  {
   "cell_type": "markdown",
   "id": "e4136009-1ef1-46ba-9d1a-86a12954f217",
   "metadata": {},
   "source": [
    "13. Write `find_max_in_list()` to identify the largest number in a list of arbitrary length."
   ]
  },
  {
   "cell_type": "code",
   "execution_count": 4,
   "id": "02b307cf-013d-44ac-8e60-0de6730dcb0c",
   "metadata": {},
   "outputs": [
    {
     "name": "stdout",
     "output_type": "stream",
     "text": [
      "the maximum number within elements is: 12\n"
     ]
    }
   ],
   "source": [
    "def find_max_in_list(lis1):\n",
    "    \"\"\"This function is to identify largest number in a list of arbitrary length\"\"\"\n",
    "    lis2 = lis1.sort()\n",
    "    return lis2\n",
    "# consider a list of integers\n",
    "lis1 = [2,4,6,8,10,12]\n",
    "print(\"the maximum number within elements is:\", lis1[-1])\n",
    "    \n"
   ]
  },
  {
   "cell_type": "markdown",
   "id": "a2f3293a-1b6c-4aee-bbdf-d7cadef48a3a",
   "metadata": {},
   "source": [
    "14. Create a program that maps each word in a list to its length."
   ]
  },
  {
   "cell_type": "code",
   "execution_count": 3,
   "id": "25e629d3-356a-4c2f-b085-c688e96ca14d",
   "metadata": {},
   "outputs": [
    {
     "name": "stdout",
     "output_type": "stream",
     "text": [
      "the word lengths are: [2, 9, 4, 2, 2, 2, 8]\n"
     ]
    }
   ],
   "source": [
    "def find_length_words(string):\n",
    "    \"\"\"This function is to identify the length of words in a list\"\"\"\n",
    "    words = string.split()\n",
    "    wordlength = []\n",
    "    for word in words:\n",
    "        wordlength.append(len(word))\n",
    "    return wordlength\n",
    "\n",
    "#consider a string below\n",
    "string = \" My favourite game of me is athletic\"\n",
    "result = find_length_words(string)\n",
    "print(\"the word lengths are:\", result)"
   ]
  }
 ],
 "metadata": {
  "kernelspec": {
   "display_name": "Python 3 (ipykernel)",
   "language": "python",
   "name": "python3"
  },
  "language_info": {
   "codemirror_mode": {
    "name": "ipython",
    "version": 3
   },
   "file_extension": ".py",
   "mimetype": "text/x-python",
   "name": "python",
   "nbconvert_exporter": "python",
   "pygments_lexer": "ipython3",
   "version": "3.9.2"
  }
 },
 "nbformat": 4,
 "nbformat_minor": 5
}
