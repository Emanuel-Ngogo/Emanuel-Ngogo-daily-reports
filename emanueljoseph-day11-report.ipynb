{
 "cells": [
  {
   "cell_type": "code",
   "execution_count": null,
   "id": "4655fd9b-50a4-4622-b9a3-a56b2d48b599",
   "metadata": {},
   "outputs": [],
   "source": [
    "### PRACTICAL QUESTION FOR NUMPY"
   ]
  },
  {
   "cell_type": "markdown",
   "id": "752fde1f-4812-4b45-ae9a-c80c0851d565",
   "metadata": {},
   "source": [
    "Exercise 1:\n",
    "Create a NumPy array of integers from 1 to 10."
   ]
  },
  {
   "cell_type": "code",
   "execution_count": 4,
   "id": "c18fcc5e-2ba7-4e83-ad77-9a2bc7490d28",
   "metadata": {},
   "outputs": [
    {
     "name": "stdout",
     "output_type": "stream",
     "text": [
      "[ 1  2  3  4  5  6  7  8  9 10]\n"
     ]
    }
   ],
   "source": [
    "# to create an array of integers\n",
    "import numpy as np\n",
    "\n",
    "a = np.arange(1,11,1)\n",
    "print(a)"
   ]
  },
  {
   "cell_type": "markdown",
   "id": "73dd2533-1440-4941-8c53-59ea29669508",
   "metadata": {},
   "source": [
    "Exercise 2:\n",
    "Create a 3x3 NumPy array filled with zeros."
   ]
  },
  {
   "cell_type": "code",
   "execution_count": 38,
   "id": "62dc1a21-1582-414e-9bfc-a0206f14dea6",
   "metadata": {},
   "outputs": [
    {
     "name": "stdout",
     "output_type": "stream",
     "text": [
      "[[0. 0. 0.]\n",
      " [0. 0. 0.]\n",
      " [0. 0. 0.]]\n"
     ]
    }
   ],
   "source": [
    "# to create a 3 x 3 numpy\n",
    "k = np.zeros((3,3))\n",
    "print(k)\n"
   ]
  },
  {
   "cell_type": "markdown",
   "id": "4a3f57e0-c151-4f78-b01b-6c46bfed5672",
   "metadata": {},
   "source": [
    "Exercise 3:\n",
    "Create a NumPy array of 10 evenly spaced numbers between 0 and 5."
   ]
  },
  {
   "cell_type": "code",
   "execution_count": 24,
   "id": "4062e608-56dc-4a95-a807-bf10421ecf90",
   "metadata": {},
   "outputs": [
    {
     "name": "stdout",
     "output_type": "stream",
     "text": [
      "[0.         0.55555556 1.11111111 1.66666667 2.22222222 2.77777778\n",
      " 3.33333333 3.88888889 4.44444444 5.        ]\n"
     ]
    }
   ],
   "source": [
    "k =np.linspace(0,5,10)\n",
    "print(k)"
   ]
  },
  {
   "cell_type": "markdown",
   "id": "c6d1c5e4-4c46-45d2-b1e4-3328d7ceb556",
   "metadata": {},
   "source": [
    "Exercise 4:\n",
    "Create a 5x5 identity matrix using NumPy."
   ]
  },
  {
   "cell_type": "code",
   "execution_count": 34,
   "id": "b9c4ac96-638f-46da-be63-dcad5f852a1e",
   "metadata": {},
   "outputs": [
    {
     "name": "stdout",
     "output_type": "stream",
     "text": [
      "[[1. 0. 0. 0. 0.]\n",
      " [0. 1. 0. 0. 0.]\n",
      " [0. 0. 1. 0. 0.]\n",
      " [0. 0. 0. 1. 0.]\n",
      " [0. 0. 0. 0. 1.]]\n"
     ]
    }
   ],
   "source": [
    "l = np.eye((5))\n",
    "print(l)"
   ]
  },
  {
   "cell_type": "markdown",
   "id": "cbfc4e25-cfc0-4e0a-9b55-8206642bd5bc",
   "metadata": {},
   "source": [
    "Exercise 5:\n",
    "Create a 4x4 matrix with random values between 0 and 1."
   ]
  },
  {
   "cell_type": "code",
   "execution_count": 62,
   "id": "35a88da9-4e4e-43b9-8cec-44b33c41ace1",
   "metadata": {},
   "outputs": [
    {
     "name": "stdout",
     "output_type": "stream",
     "text": [
      "[[0.46899448 0.95168219 0.96117261 0.4173951 ]\n",
      " [0.10072493 0.89686044 0.16432492 0.30940648]\n",
      " [0.23649541 0.79711775 0.19643113 0.27559667]\n",
      " [0.54621926 0.12479686 0.56305611 0.80026532]]\n"
     ]
    }
   ],
   "source": [
    "l = np.random.random(size=(4,4))\n",
    "\n",
    "print(l)"
   ]
  },
  {
   "cell_type": "markdown",
   "id": "0767ff56-d658-42f2-b601-ea346c267dfc",
   "metadata": {},
   "source": [
    "Exercise 6:\n",
    "Find the shape of a NumPy array."
   ]
  },
  {
   "cell_type": "code",
   "execution_count": 64,
   "id": "ce96be03-a944-4d46-af66-9674838dde93",
   "metadata": {},
   "outputs": [
    {
     "name": "stdout",
     "output_type": "stream",
     "text": [
      "<class 'numpy.ndarray'>\n",
      "(4,)\n"
     ]
    }
   ],
   "source": [
    "z = np.array([2,4,6,8])\n",
    "print(type(z))\n",
    "print(z.shape)"
   ]
  },
  {
   "cell_type": "markdown",
   "id": "f210e316-e4c3-4cb8-bd8c-2ef6d0bca485",
   "metadata": {},
   "source": [
    "Exercise 7:\n",
    "Reshape a 1D NumPy array of 16 elements into a 4x4 matrix."
   ]
  },
  {
   "cell_type": "code",
   "execution_count": 72,
   "id": "ffe3be00-611e-48d5-936b-19687509a99e",
   "metadata": {},
   "outputs": [
    {
     "name": "stdout",
     "output_type": "stream",
     "text": [
      "[ 0  1  2  3  4  5  6  7  8  9 10 11 12 13 14 15]\n"
     ]
    },
    {
     "data": {
      "text/plain": [
       "array([[ 0,  1,  2,  3],\n",
       "       [ 4,  5,  6,  7],\n",
       "       [ 8,  9, 10, 11],\n",
       "       [12, 13, 14, 15]])"
      ]
     },
     "execution_count": 72,
     "metadata": {},
     "output_type": "execute_result"
    }
   ],
   "source": [
    "x = np.arange(0,16)\n",
    "print(x)\n",
    "x.reshape(4,4)\n"
   ]
  },
  {
   "cell_type": "markdown",
   "id": "a94e1ce4-ae68-4dc6-aa9d-faf60f41be10",
   "metadata": {},
   "source": [
    "Exercise 8:\n",
    "Find the data type of the elements in a NumPy array.\n"
   ]
  },
  {
   "cell_type": "code",
   "execution_count": 73,
   "id": "263af984-b830-4741-ac0f-b53d84182643",
   "metadata": {},
   "outputs": [
    {
     "name": "stdout",
     "output_type": "stream",
     "text": [
      "int64\n"
     ]
    }
   ],
   "source": [
    "# to check the data type of an array\n",
    "\n",
    "v = np.array([2,4,6,8,10,12])\n",
    "print(v.dtype)"
   ]
  },
  {
   "cell_type": "markdown",
   "id": "1d2492e9-f7e4-480b-b788-5fda604f997c",
   "metadata": {},
   "source": [
    "Exercise 9:\n",
    "Create a NumPy array of integers from 1 to 100 and find all even numbers in the array."
   ]
  },
  {
   "cell_type": "code",
   "execution_count": 81,
   "id": "d79494ea-aec8-481d-9a89-2881044ca9fb",
   "metadata": {},
   "outputs": [
    {
     "name": "stdout",
     "output_type": "stream",
     "text": [
      "[ 1  2  3  4  5  6  7  8  9 10 11 12 13 14 15 16 17 18 19 20 21 22 23 24\n",
      " 25 26 27 28 29 30 31 32 33 34 35 36 37 38 39 40 41 42 43 44 45 46 47 48\n",
      " 49 50 51 52 53 54 55 56 57 58 59 60 61 62 63 64 65 66 67 68 69 70 71 72\n",
      " 73 74 75 76 77 78 79 80 81 82 83 84 85 86 87 88 89 90 91 92 93 94 95 96\n",
      " 97 98 99]\n",
      "[ 2  4  6  8 10 12 14 16 18 20 22 24 26 28 30 32 34 36 38 40 42 44 46 48\n",
      " 50 52 54 56 58 60 62 64 66 68 70 72 74 76 78 80 82 84 86 88 90 92 94 96\n",
      " 98]\n"
     ]
    }
   ],
   "source": [
    "# to create a numpy with integers from 1 to 100\n",
    "a = np.arange(1,100,1)\n",
    "print(a)\n",
    "print(a[a%2==0])\n"
   ]
  },
  {
   "cell_type": "markdown",
   "id": "409c23b4-a890-4629-92be-ce8bc76365fb",
   "metadata": {},
   "source": [
    "Exercise 10:\n",
    "Generate a 6x6 matrix of random integers between 10 and 50."
   ]
  },
  {
   "cell_type": "code",
   "execution_count": 91,
   "id": "cf4c9391-a18f-4243-a0c7-d329c1d2b6f2",
   "metadata": {},
   "outputs": [
    {
     "name": "stdout",
     "output_type": "stream",
     "text": [
      "[[36 24 45 12 38 43]\n",
      " [15 11 24 43 11 27]\n",
      " [28 26 11 30 31 14]\n",
      " [28 12 14 32 36 10]\n",
      " [37 31 50 42 22 15]\n",
      " [49 38 34 46 18 38]]\n"
     ]
    }
   ],
   "source": [
    "h = np.random.randint(10,50+1, size =(6,6))\n",
    "print(h)\n"
   ]
  },
  {
   "cell_type": "markdown",
   "id": "c804987e-b3db-44a6-a57c-73692be94499",
   "metadata": {},
   "source": [
    "Exercise 11:\n",
    "Slice a 2D NumPy array to extract a submatrix."
   ]
  },
  {
   "cell_type": "code",
   "execution_count": 97,
   "id": "e4982500-0a74-4fa7-a557-fac5a4b065a8",
   "metadata": {},
   "outputs": [
    {
     "name": "stdout",
     "output_type": "stream",
     "text": [
      "[[2 4 1]\n",
      " [7 0 8]\n",
      " [5 7 8]]\n",
      "<class 'numpy.ndarray'>\n",
      "[[7 0 8]]\n"
     ]
    }
   ],
   "source": [
    "x = np.random.randint(0,10, size = (3,3))\n",
    "print(x)\n",
    "result = x[0:2][1:3]\n",
    "print(type(x))\n",
    "print(result)"
   ]
  },
  {
   "cell_type": "markdown",
   "id": "5292fa18-8bf0-4e2f-9ce2-dcecc38e790d",
   "metadata": {},
   "source": [
    "Exercise 12:\n",
    "\n",
    "Calculate the sum of all elements in a NumPy array."
   ]
  },
  {
   "cell_type": "code",
   "execution_count": 100,
   "id": "3f393cea-afc5-4c33-bdeb-f862ec1a4649",
   "metadata": {},
   "outputs": [
    {
     "name": "stdout",
     "output_type": "stream",
     "text": [
      "[0 1 2 3 4 5 6 7 8 9]\n",
      "45\n"
     ]
    }
   ],
   "source": [
    "x = np.arange(10)\n",
    "print(x)\n",
    "result = np.sum(x)\n",
    "print(result)"
   ]
  },
  {
   "cell_type": "markdown",
   "id": "4a33d079-a6bb-4880-ae59-990f40c5de57",
   "metadata": {},
   "source": [
    "Exercise 13:\n",
    "\n",
    "Calculate the mean, median, and standard deviation of a NumPy array."
   ]
  },
  {
   "cell_type": "code",
   "execution_count": 107,
   "id": "3d0cc853-0461-4d9d-87bb-85b3984c124e",
   "metadata": {},
   "outputs": [
    {
     "name": "stdout",
     "output_type": "stream",
     "text": [
      "[ 0  1  2  3  4  5  6  7  8  9 10 11 12 13 14 15 16 17 18 19]\n",
      "9.5\n",
      "9.5\n",
      "5.766281297335398\n"
     ]
    }
   ],
   "source": [
    "x = np.arange(20)\n",
    "print(x)\n",
    "result= np.mean(x)\n",
    "result1= np.median(x)\n",
    "result2= np.std(x)\n",
    "print(result)\n",
    "print(result1)\n",
    "print(result2)"
   ]
  },
  {
   "cell_type": "markdown",
   "id": "e4ada506-8b28-41f6-a802-a2d088ae9301",
   "metadata": {},
   "source": [
    "exercise 14:b\n",
    "\n",
    "Find the maximum and minimum values in a NumPy array."
   ]
  },
  {
   "cell_type": "code",
   "execution_count": 113,
   "id": "aa011306-40b7-4cf8-9323-fe956bcbd153",
   "metadata": {},
   "outputs": [
    {
     "name": "stdout",
     "output_type": "stream",
     "text": [
      "[ 0  1  2  3  4  5  6  7  8  9 10 11 12 13]\n",
      "13\n",
      "0\n"
     ]
    }
   ],
   "source": [
    "l = np.arange(14)\n",
    "print(l)\n",
    "result= np.max(l)\n",
    "result1 = np.min(l)\n",
    "print(result)\n",
    "print(result1)"
   ]
  },
  {
   "cell_type": "markdown",
   "id": "b7a3406a-8696-497b-9764-0adfb7f2a7ce",
   "metadata": {},
   "source": [
    "Exercise 15:\n",
    "\n",
    "Create a NumPy array of 20 random integers and find the index of the maximum value."
   ]
  },
  {
   "cell_type": "code",
   "execution_count": 127,
   "id": "d26b3466-a7bc-418f-9c55-7a0e8d1a8f4c",
   "metadata": {},
   "outputs": [
    {
     "name": "stdout",
     "output_type": "stream",
     "text": [
      "[[5]\n",
      " [4]\n",
      " [4]\n",
      " [3]\n",
      " [5]\n",
      " [6]\n",
      " [3]\n",
      " [6]\n",
      " [2]\n",
      " [2]\n",
      " [4]\n",
      " [4]\n",
      " [6]\n",
      " [5]\n",
      " [5]\n",
      " [2]\n",
      " [6]\n",
      " [3]\n",
      " [6]\n",
      " [2]]\n",
      "6\n"
     ]
    }
   ],
   "source": [
    "b = np.random.randint(2,7, size =(20,1))\n",
    "print(b)\n",
    "result = np.max(b)\n",
    "print(result)\n"
   ]
  },
  {
   "cell_type": "markdown",
   "id": "e3e6509b-f6f3-42d5-af76-1ea7922ff862",
   "metadata": {},
   "source": [
    "Exercise 16:\n",
    "Create a NumPy array and reverse its elements.\n"
   ]
  },
  {
   "cell_type": "code",
   "execution_count": 131,
   "id": "2dadd742-30bc-4ebc-885d-e2a2889e6448",
   "metadata": {},
   "outputs": [
    {
     "name": "stdout",
     "output_type": "stream",
     "text": [
      "[ 0  1  2  3  4  5  6  7  8  9 10]\n"
     ]
    },
    {
     "data": {
      "text/plain": [
       "array([10,  9,  8,  7,  6,  5,  4,  3,  2,  1,  0])"
      ]
     },
     "execution_count": 131,
     "metadata": {},
     "output_type": "execute_result"
    }
   ],
   "source": [
    "x = np.arange(11)\n",
    "print(x)\n",
    "x[::-1]Exercise 17:\n",
    "Create a 3x3 matrix and multiply it element-wise by another 3x3 matrix."
   ]
  },
  {
   "cell_type": "markdown",
   "id": "1783d774-60cf-4546-87fc-27e465b699cb",
   "metadata": {},
   "source": [
    "Exercise 17:\n",
    "Create a 3x3 matrix and multiply it element-wise by another 3x3 matrix."
   ]
  },
  {
   "cell_type": "code",
   "execution_count": 134,
   "id": "1f02e244-2e9b-4db2-b3a6-86c4a111b698",
   "metadata": {},
   "outputs": [
    {
     "name": "stdout",
     "output_type": "stream",
     "text": [
      "[[4 6 9]\n",
      " [5 9 5]\n",
      " [7 6 6]]\n",
      "[[14 19 13]\n",
      " [12 14 11]\n",
      " [15 12 11]]\n",
      "[[18 25 22]\n",
      " [17 23 16]\n",
      " [22 18 17]]\n"
     ]
    }
   ],
   "source": [
    "x = np.random.randint(1,10, size = (3,3))\n",
    "y = np.random.randint(11,20, size = (3,3))\n",
    "print(x)\n",
    "print(y)\n",
    "result = x +y\n",
    "print(result)"
   ]
  },
  {
   "cell_type": "markdown",
   "id": "b351e4a7-ca31-4e7f-ac44-ece3f5064738",
   "metadata": {},
   "source": [
    "Exercise 18:\n",
    "Create a diagonal matrix from a given 1D array."
   ]
  },
  {
   "cell_type": "code",
   "execution_count": 137,
   "id": "c445fab2-3ab1-4fc3-951c-04dc64d3c3bd",
   "metadata": {},
   "outputs": [
    {
     "name": "stdout",
     "output_type": "stream",
     "text": [
      "[[1 2]\n",
      " [3 3]]\n",
      "[1 3]\n"
     ]
    }
   ],
   "source": [
    "N = np.random.randint(1,4, size = (2,2))\n",
    "print(N)\n",
    "p = np.diag(N)\n",
    "print(p)"
   ]
  },
  {
   "cell_type": "markdown",
   "id": "3a4a765f-1298-44b2-8b2c-19ca269952f4",
   "metadata": {},
   "source": [
    "Exercise 19:\n",
    "Perform matrix multiplication on two 2D NumPy arrays."
   ]
  },
  {
   "cell_type": "code",
   "execution_count": 143,
   "id": "30b8f77e-cac4-43bb-bc44-eb8bcb470db5",
   "metadata": {},
   "outputs": [
    {
     "name": "stdout",
     "output_type": "stream",
     "text": [
      "==========================================\n",
      "[1 1 1 2]\n",
      "==========================================\n",
      "[0 0 0 2]\n",
      "==========================================\n",
      "[0 0 0 4]\n"
     ]
    }
   ],
   "source": [
    "N = np.random.randint(1,4, size = 4)\n",
    "w = np.random.randint(0,4, size = 4)\n",
    "print(\"==========================================\")\n",
    "print(N)\n",
    "print(\"==========================================\")\n",
    "print(w)\n",
    "print(\"==========================================\")\n",
    "print(np.multiply(N,w))"
   ]
  },
  {
   "cell_type": "markdown",
   "id": "a5ce7683-77e5-4549-bb10-d7c321d46e8b",
   "metadata": {},
   "source": [
    "Exercise 20:\n",
    "Flatten a 2D NumPy array into a 1D array.\n"
   ]
  },
  {
   "cell_type": "code",
   "execution_count": 145,
   "id": "c75714f5-cb70-4543-9791-db302c265d30",
   "metadata": {},
   "outputs": [
    {
     "name": "stdout",
     "output_type": "stream",
     "text": [
      "==========================================\n",
      "[[2 2]\n",
      " [2 1]]\n",
      "==========================================\n",
      "[2 2 2 1]\n"
     ]
    }
   ],
   "source": [
    "a = np.random.randint(1,4, size = (2,2))\n",
    "print(\"==========================================\")\n",
    "print(a)\n",
    "print(\"==========================================\")\n",
    "print(np.concatenate(a))"
   ]
  },
  {
   "cell_type": "markdown",
   "id": "7beadd66-5d08-4586-a926-d2d00ceebb4c",
   "metadata": {},
   "source": [
    "Exercise 21:\n",
    "Stack two NumPy arrays vertically."
   ]
  },
  {
   "cell_type": "code",
   "execution_count": 153,
   "id": "02c99f48-ae00-4923-9441-dd9cfd0d5528",
   "metadata": {},
   "outputs": [
    {
     "name": "stdout",
     "output_type": "stream",
     "text": [
      "==========================================\n",
      "[2 2 3 1]\n",
      "==========================================\n",
      "[1 2 1 2]\n",
      "==========================================\n",
      "[[2 2 3 1]\n",
      " [1 2 1 2]]\n"
     ]
    }
   ],
   "source": [
    "c= np.random.randint(1,4, size = 4)\n",
    "d = np.random.randint(1,3, size = 4)\n",
    "print(\"==========================================\")\n",
    "print(c)\n",
    "print(\"==========================================\")\n",
    "print(d)\n",
    "print(\"==========================================\")\n",
    "print(np.vstack((c,d)))"
   ]
  },
  {
   "cell_type": "markdown",
   "id": "6b4dd7d1-967d-43f5-ad63-b64bf0e69359",
   "metadata": {},
   "source": [
    "Exercise 22:\n",
    "Stack two NumPy arrays horizontally."
   ]
  },
  {
   "cell_type": "code",
   "execution_count": 154,
   "id": "c82f1b4d-7531-466e-9090-79e41c9a74ca",
   "metadata": {},
   "outputs": [
    {
     "name": "stdout",
     "output_type": "stream",
     "text": [
      "==========================================\n",
      "[2 2 3 1]\n",
      "==========================================\n",
      "[1 2 1 2]\n",
      "==========================================\n",
      "[2 2 3 1 1 2 1 2]\n"
     ]
    }
   ],
   "source": [
    "e= np.random.randint(0,3, size = 4)\n",
    "f = np.random.randint(1,2, size = 4)\n",
    "print(\"==========================================\")\n",
    "print(c)\n",
    "print(\"==========================================\")\n",
    "print(d)\n",
    "print(\"==========================================\")\n",
    "print(np.hstack((c,d)))"
   ]
  },
  {
   "cell_type": "markdown",
   "id": "c35b66fb-c680-4a5e-86f4-368c46461cfd",
   "metadata": {},
   "source": [
    "Exercise 23:\n",
    "Split a NumPy array into multiple sub-arrays."
   ]
  },
  {
   "cell_type": "code",
   "execution_count": 161,
   "id": "9a1a8530-1a9e-43bb-865a-dce8a24b6876",
   "metadata": {},
   "outputs": [
    {
     "name": "stdout",
     "output_type": "stream",
     "text": [
      "==========================================\n",
      "[2 1 2 1 0 0 0 0 0]\n",
      "==========================================\n",
      "[array([2, 1, 2]), array([1, 0, 0]), array([0, 0, 0])]\n"
     ]
    }
   ],
   "source": [
    "g= np.random.randint(0,3, size = 9)\n",
    "print(\"==========================================\")\n",
    "print(g)\n",
    "print(\"==========================================\")\n",
    "print(np.split(g,3))"
   ]
  },
  {
   "cell_type": "markdown",
   "id": "3924ff1d-1c04-4a32-b99b-c03ead08af7e",
   "metadata": {},
   "source": [
    "Exercise 24:\n",
    "Generate a random NumPy array and round each element to two decimal places."
   ]
  },
  {
   "cell_type": "code",
   "execution_count": 4,
   "id": "f1c5e69f-1895-4752-af0a-1edcb2575fd6",
   "metadata": {},
   "outputs": [
    {
     "name": "stdout",
     "output_type": "stream",
     "text": [
      "==========================================\n",
      "[9.54000376 5.01889253 7.20451186 5.98100455 5.87163448 6.72504941]\n",
      "==========================================\n",
      "[9.54 5.02 7.2  5.98 5.87 6.73]\n"
     ]
    }
   ],
   "source": [
    "import numpy as np\n",
    "array = np.random.uniform(4,10, size = 6)\n",
    "result = np.round(array,decimals=2)\n",
    "print(\"==========================================\")\n",
    "print(array)\n",
    "print(\"==========================================\")\n",
    "print(result)"
   ]
  },
  {
   "cell_type": "markdown",
   "id": "fee6adf3-753a-4b7f-af7f-fac0c17efb8d",
   "metadata": {},
   "source": [
    "Exercise 25:\n",
    "Find the unique elements of a NumPy array."
   ]
  },
  {
   "cell_type": "code",
   "execution_count": 9,
   "id": "4943fed5-26f9-45cc-bff5-3195319b1737",
   "metadata": {},
   "outputs": [
    {
     "name": "stdout",
     "output_type": "stream",
     "text": [
      "==========================================\n",
      "[3 0 0 1 0 3 3]\n",
      "==========================================\n",
      "==========================================\n",
      "[0 1 3]\n"
     ]
    }
   ],
   "source": [
    "uniq = np.random.randint(0,6, size = 7)\n",
    "print(\"==========================================\")\n",
    "print(uniq)\n",
    "print(\"==========================================\")\n",
    "output = np.unique(uniq)\n",
    "print(\"==========================================\")\n",
    "print(output)"
   ]
  },
  {
   "cell_type": "markdown",
   "id": "e4f1a9bf-b1d8-435e-ac14-f9a4c65c47fb",
   "metadata": {},
   "source": [
    "Exercise 26:\n",
    "Replace all elements in a NumPy array that are less than a specific value with that value."
   ]
  },
  {
   "cell_type": "markdown",
   "id": "91795e18-0f6a-46ea-8818-fe101b1cd96a",
   "metadata": {},
   "source": [
    "\"\"\" we want to generate an numpy array with elements and replace those that are less than specified number\"\"\"\n",
    "\n",
    "repl = np.random.uniform(3, 7, size = 10)\n",
    "print(\"==========================================\")\n",
    "print(\"The original array is :\",repl)\n",
    "output = np.round(repl, decimals =2)\n",
    "repl[repl<6] =4.35\n",
    "new = repl\n",
    "print(\"==========================================\")\n",
    "print(\"The rounded array is:\", output)\n",
    "print(\"==========================================\")\n",
    "print(\"The modified array is:\", new)\n"
   ]
  },
  {
   "cell_type": "markdown",
   "id": "65cded4a-61a6-47c3-9849-296d821852d7",
   "metadata": {},
   "source": [
    "Exercise 27:\n",
    "Find the cumulative sum of the elements in a NumPy array."
   ]
  },
  {
   "cell_type": "code",
   "execution_count": 26,
   "id": "b052c998-5a71-448c-94e9-620be9cfc58a",
   "metadata": {},
   "outputs": [
    {
     "name": "stdout",
     "output_type": "stream",
     "text": [
      "==========================================\n",
      "[[7 6 2]\n",
      " [8 8 8]\n",
      " [1 8 2]]\n",
      "==========================================\n",
      "[[ 7 13 15]\n",
      " [ 8 16 24]\n",
      " [ 1  9 11]]\n"
     ]
    }
   ],
   "source": [
    "cum = np.random.randint(0,9, size = (3,3))\n",
    "print(\"==========================================\")\n",
    "print(cum)\n",
    "print(\"==========================================\")\n",
    "output= np.cumsum(cum, axis = 1)\n",
    "print(output)\n"
   ]
  },
  {
   "cell_type": "code",
   "execution_count": null,
   "id": "91d3dd80-be19-4b24-824d-dff5e5d97c22",
   "metadata": {},
   "outputs": [],
   "source": [
    " Exercise 28:\n",
    "Create a NumPy array and find the number of non-zero elements in it."
   ]
  },
  {
   "cell_type": "code",
   "execution_count": 30,
   "id": "66cad4cb-985f-4afe-b776-f9bddad71337",
   "metadata": {},
   "outputs": [
    {
     "name": "stdout",
     "output_type": "stream",
     "text": [
      "==========================================\n",
      "[1 3 2 2 0 0 2 3 2 0]\n",
      "==========================================\n",
      "non_zero elements are: 7\n"
     ]
    }
   ],
   "source": [
    "non_zero = np.random.randint(0,5,size =10)\n",
    "print(\"==========================================\")\n",
    "print(non_zero)\n",
    "print(\"==========================================\")\n",
    "p = np.count_nonzero(non_zero)\n",
    "print(\"non_zero elements are:\", p)"
   ]
  },
  {
   "cell_type": "markdown",
   "id": "4556365e-f55a-4cdc-95df-b5fb46199cd5",
   "metadata": {},
   "source": [
    "Exercise 29:\n",
    "Create a NumPy array of random integers and sort it in ascending order."
   ]
  },
  {
   "cell_type": "code",
   "execution_count": 32,
   "id": "251007c9-96e6-4f90-9a4b-884bffbaa571",
   "metadata": {},
   "outputs": [
    {
     "name": "stdout",
     "output_type": "stream",
     "text": [
      "=========================================\n",
      "[3 3 2 2 1 0 2 3 2 0 4 0 3 1 0]\n",
      "=========================================\n",
      "[0 0 0 0 1 1 2 2 2 2 3 3 3 3 4]\n"
     ]
    }
   ],
   "source": [
    "ascend = np.random.randint(0,5, size = 15)\n",
    "print(\"=========================================\")\n",
    "print(ascend)\n",
    "print(\"=========================================\")\n",
    "x = np.sort(ascend)\n",
    "print(x)"
   ]
  },
  {
   "cell_type": "markdown",
   "id": "49efb009-99e6-4823-9397-6c1580582f99",
   "metadata": {},
   "source": [
    "Exercise 30:\n",
    "Find the row-wise and column-wise sum of a 3x3 matrix."
   ]
  },
  {
   "cell_type": "code",
   "execution_count": 40,
   "id": "afa7e082-75c1-4484-86b4-62cb25be6c40",
   "metadata": {},
   "outputs": [
    {
     "name": "stdout",
     "output_type": "stream",
     "text": [
      "[[2 2 4]\n",
      " [1 2 2]\n",
      " [0 0 4]]\n",
      "=========================================\n",
      "the sum of column is: [ 3  4 10]\n",
      "=========================================\n",
      "the sum of row is: [8 5 4]\n"
     ]
    }
   ],
   "source": [
    "matri = np.random.randint(0,5, size = (3,3))\n",
    "print(matri)\n",
    "print(\"=========================================\")\n",
    "x =np.sum(matri, axis=0)\n",
    "print(\"the sum of column is:\", x)\n",
    "print(\"=========================================\")\n",
    "y = np.sum(matri, axis =1)\n",
    "print(\"the sum of row is:\", y)"
   ]
  },
  {
   "cell_type": "markdown",
   "id": "fb1d9676-97dc-405c-9cf6-daadf3a7ca95",
   "metadata": {},
   "source": [
    "Exercise 31:\n",
    "Generate a 2D NumPy array with random values and normalize it (scale the values between 0 and 1)."
   ]
  },
  {
   "cell_type": "code",
   "execution_count": 45,
   "id": "6f237d1b-f2ea-44a2-acd0-a4fd13ad5add",
   "metadata": {},
   "outputs": [
    {
     "name": "stdout",
     "output_type": "stream",
     "text": [
      "=========================================\n",
      "the original matrix is: [[2 2]\n",
      " [2 3]]\n",
      "=========================================\n",
      "the normalized matrix is: [[0.43643578 0.43643578]\n",
      " [0.43643578 0.65465367]]\n"
     ]
    }
   ],
   "source": [
    " normal = np.random.randint(1, 5, size=(2,2))\n",
    "print(\"=========================================\")\n",
    "print(\"the original matrix is:\", normal)\n",
    "print(\"=========================================\")\n",
    "p = normal/np.linalg.norm(normal)\n",
    "print(\"the normalized matrix is:\", p)"
   ]
  },
  {
   "cell_type": "markdown",
   "id": "c9ec5e3a-a045-4d8a-b7dc-77aefe0ba07b",
   "metadata": {},
   "source": [
    "Exercise 32:\n",
    "Create two NumPy arrays and find the dot product."
   ]
  },
  {
   "cell_type": "code",
   "execution_count": 50,
   "id": "56ceef4c-8665-4d39-a582-b6b3fe3aa0ee",
   "metadata": {},
   "outputs": [
    {
     "name": "stdout",
     "output_type": "stream",
     "text": [
      "========================================\n",
      "[[0 0]\n",
      " [1 2]]\n",
      "========================================\n",
      "[[0 2]\n",
      " [1 1]]\n",
      "========================================\n",
      "the dot product of two matrices is: [[0 0]\n",
      " [2 4]]\n"
     ]
    }
   ],
   "source": [
    "dot = np.random.randint(0,3, size = (2,2))\n",
    "dot1 = np.random.randint(0,4, size = (2,2))\n",
    "print(\"========================================\")\n",
    "print(dot)\n",
    "print(\"========================================\")\n",
    "print(dot1)\n",
    "print(\"========================================\")\n",
    "x = np.dot(dot, dot1)\n",
    "print(\"the dot product of two matrices is:\", x)"
   ]
  },
  {
   "cell_type": "markdown",
   "id": "9a8ba604-1718-46e2-9fa3-8633d85767e5",
   "metadata": {},
   "source": [
    "Exercise 33:\n",
    "Find the trace of a square NumPy matrix."
   ]
  },
  {
   "cell_type": "code",
   "execution_count": 53,
   "id": "bb0aa78e-5f52-46b4-a385-3e4c0f2add5e",
   "metadata": {},
   "outputs": [
    {
     "name": "stdout",
     "output_type": "stream",
     "text": [
      "========================================\n",
      "the original matrix is: [[5 4]\n",
      " [4 3]]\n",
      "========================================\n",
      "the trace of a matrix is: 8\n"
     ]
    }
   ],
   "source": [
    "trac = np.random.randint(0,6, size = (2,2))\n",
    "print(\"========================================\")\n",
    "print(\"the original matrix is:\", trac)\n",
    "print(\"========================================\")\n",
    "p = np.trace(trac)\n",
    "print(\"the trace of a matrix is:\", p)"
   ]
  },
  {
   "cell_type": "markdown",
   "id": "80311eec-bdcb-4604-873f-447838e9c96a",
   "metadata": {},
   "source": [
    "Exercise 34:\n",
    "Create a 2D array and swap two rows."
   ]
  },
  {
   "cell_type": "code",
   "execution_count": 61,
   "id": "64adbcf6-a0c5-449c-a6a3-576131a82da2",
   "metadata": {},
   "outputs": [
    {
     "name": "stdout",
     "output_type": "stream",
     "text": [
      "========================================\n",
      "The original matrix is: [[6 4]\n",
      " [2 0]]\n",
      "========================================\n",
      "the obtained matrix after swapping is: [[2 0]\n",
      " [6 4]]\n"
     ]
    }
   ],
   "source": [
    "swap = np.random.randint(0,8, size = (2,2))\n",
    "print(\"========================================\")\n",
    "print(\"The original matrix is:\", swap)\n",
    "print(\"========================================\")\n",
    "w = swap[[1,0], :]\n",
    "print(\"the obtained matrix after swapping is:\", w)"
   ]
  },
  {
   "cell_type": "markdown",
   "id": "95353873-f4d1-4ef7-b167-8cfc19dbb8c5",
   "metadata": {},
   "source": [
    "Exercise 35:\n",
    "Create a 1D NumPy array and convert it into a column vector."
   ]
  },
  {
   "cell_type": "code",
   "execution_count": 66,
   "id": "1d5250e4-56b3-4e99-b535-877aa31244ac",
   "metadata": {},
   "outputs": [
    {
     "name": "stdout",
     "output_type": "stream",
     "text": [
      "========================================\n",
      "the original array is: [7 5 1 7 2]\n",
      "========================================\n",
      "the column vector is: [[7]\n",
      " [5]\n",
      " [1]\n",
      " [7]\n",
      " [2]]\n"
     ]
    }
   ],
   "source": [
    "vect = np.random.randint(0,8, size = 5)\n",
    "print(\"========================================\")\n",
    "print(\"the original array is:\", vect)\n",
    "print(\"========================================\")\n",
    "w = vect.reshape(-1,1)\n",
    "print(\"the column vector is:\", w)"
   ]
  },
  {
   "cell_type": "markdown",
   "id": "a9d33b9e-4348-49c9-9220-9d81d047a60c",
   "metadata": {},
   "source": [
    "Exercise 36:\n",
    "Find the determinant of a 3x3 matrix."
   ]
  },
  {
   "cell_type": "code",
   "execution_count": 69,
   "id": "ac38f7ea-9b66-4d9c-8aa0-4d8b5d254922",
   "metadata": {},
   "outputs": [
    {
     "name": "stdout",
     "output_type": "stream",
     "text": [
      "========================================\n",
      "the original matrix is: [[5 3 5]\n",
      " [2 5 4]\n",
      " [4 4 4]]\n",
      "the determinant of a matrix is: -15.999999999999998\n"
     ]
    }
   ],
   "source": [
    "det = np.random.randint(2,6, size = (3,3))\n",
    "print(\"========================================\")\n",
    "print(\"the original matrix is:\", det)\n",
    "w = np.linalg.det(det)\n",
    "print(\"the determinant of a matrix is:\", w)"
   ]
  },
  {
   "cell_type": "markdown",
   "id": "3cf6705f-8eae-4852-9d5c-841ab93f73f7",
   "metadata": {},
   "source": [
    "Exercise 37:\n",
    "Find the eigenvalues and eigenvectors of a 2x2 matrix."
   ]
  },
  {
   "cell_type": "code",
   "execution_count": 74,
   "id": "a32a5944-36e3-4a50-b9e5-691efbeb71f4",
   "metadata": {},
   "outputs": [
    {
     "name": "stdout",
     "output_type": "stream",
     "text": [
      "========================================\n",
      "the original matrix is: [[5 6]\n",
      " [6 3]]\n",
      "========================================\n",
      "the eigenvalue is: [10.08276253 -2.08276253]\n",
      "========================================\n",
      "the eigenvector is: [[ 0.76301998 -0.6463749 ]\n",
      " [ 0.6463749   0.76301998]]\n"
     ]
    }
   ],
   "source": [
    "from numpy.linalg import eig\n",
    "eig_vec = np.random.randint(3,7, size = (2,2))\n",
    "print(\"========================================\")\n",
    "print(\"the original matrix is:\", eig_vec)\n",
    "print(\"========================================\")\n",
    "w,v = eig(eig_vec)\n",
    "print(\"the eigenvalue is:\", w)\n",
    "print(\"========================================\")\n",
    "print(\"the eigenvector is:\", v)"
   ]
  },
  {
   "cell_type": "markdown",
   "id": "f8e7310b-8144-44a6-9548-eb4cffb67051",
   "metadata": {},
   "source": [
    "Exercise 38:\n",
    "Solve a system of linear equations using NumPy.\n"
   ]
  },
  {
   "cell_type": "code",
   "execution_count": 79,
   "id": "a2298053-097d-49d7-b113-8c56a7eb2cb8",
   "metadata": {},
   "outputs": [
    {
     "name": "stdout",
     "output_type": "stream",
     "text": [
      "[ 2. -0.]\n"
     ]
    },
    {
     "data": {
      "text/plain": [
       "True"
      ]
     },
     "execution_count": 79,
     "metadata": {},
     "output_type": "execute_result"
    }
   ],
   "source": [
    "a = np.random.randint(1,3, size = (2,2))\n",
    "b = np.random.randint(1,3, size = 2)\n",
    "x = np.linalg.solve(a,b)\n",
    "print(x)\n",
    "\"\"\"to check whether the value are true\"\"\"\n",
    "np.allclose(np.dot(a, x), b)\n"
   ]
  },
  {
   "cell_type": "markdown",
   "id": "2b701d8b-8a10-45fc-bd7e-4a0aaa10686b",
   "metadata": {},
   "source": [
    "Exercise 39:\n",
    "Add Gaussian noise to a NumPy array."
   ]
  },
  {
   "cell_type": "code",
   "execution_count": 85,
   "id": "71f0d663-1886-47a6-8dc6-116ffa1f71cf",
   "metadata": {},
   "outputs": [
    {
     "name": "stdout",
     "output_type": "stream",
     "text": [
      "[ 0  2  4  6  8 10 12 14 16 18 20 22 24 26 28 30 32 34 36 38 40 42 44 46\n",
      " 48]\n",
      "[ 1.34581171  0.07416962  1.25044146  0.06188758  6.08256625  3.60705682\n",
      "  0.05160134  2.13897008  6.94924385  7.05623419  6.95399779  7.33575982\n",
      "  7.31080767  4.72113062  8.03859114  9.16484398 13.95232778 10.5217254\n",
      "  9.71880143  9.47104933 12.43400915 15.01579896 15.10759507 15.66030626\n",
      " 15.48176688]\n"
     ]
    },
    {
     "data": {
      "image/png": "[encoded data removed]",
      "text/plain": [
       "<Figure size 640x480 with 1 Axes>"
      ]
     },
     "metadata": {},
     "output_type": "display_data"
    }
   ],
   "source": [
    "import matplotlib.pyplot as plt\n",
    "x = np.arange(0,50,2)\n",
    "print(x)\n",
    "y = 0.3*x + 0.6\n",
    "noise = np.random.normal(0,2, len(x)) \n",
    "y_noised = y + noise \n",
    "print(y_noised)\n",
    "\n",
    "\"\"\"to plot a graph\"\"\"\n",
    "\"\"\"Plot the original linear data\"\"\"\n",
    "plt.plot(x, y, label='Original Line: y = 0.3x + 0.6', color='blue')\n",
    "\n",
    "# Plot the noisy data points\n",
    "plt.scatter(x, y_noised, label='Noisy Data Points', color='orange')\n",
    "\n",
    "\"\"\"Add labels and legend\"\"\"\n",
    "plt.xlabel('X values')\n",
    "plt.ylabel('Y values')\n",
    "plt.title('Noisy Linear Data Plot')\n",
    "plt.legend()\n",
    "plt.grid(True)\n",
    "\n",
    "\"\"\"Display the plot\"\"\"\n",
    "plt.show()"
   ]
  },
  {
   "cell_type": "markdown",
   "id": "14339937-0160-4ea7-b7d8-ca1416983633",
   "metadata": {},
   "source": [
    "Exercise 40:\n",
    "Create a 4x4 matrix and extract the diagonal elements."
   ]
  },
  {
   "cell_type": "code",
   "execution_count": 89,
   "id": "d1c1aaa2-eb79-4e34-83f3-32f71876068d",
   "metadata": {},
   "outputs": [
    {
     "name": "stdout",
     "output_type": "stream",
     "text": [
      "========================================\n",
      "the original matrix is: [[5 4 1 3]\n",
      " [2 6 2 4]\n",
      " [1 7 5 3]\n",
      " [6 7 5 1]]\n",
      "========================================\n",
      "the diagonal of a matrix is: [5 6 5 1]\n"
     ]
    }
   ],
   "source": [
    "d = np.random.randint(1,8, size =(4,4))\n",
    "print(\"========================================\")\n",
    "print(\"the original matrix is:\", d)\n",
    "print(\"========================================\")\n",
    "w = np.diag(d)\n",
    "print(\"the diagonal of a matrix is:\", w)"
   ]
  }
 ],
 "metadata": {
  "kernelspec": {
   "display_name": "Python 3 (ipykernel)",
   "language": "python",
   "name": "python3"
  },
  "language_info": {
   "codemirror_mode": {
    "name": "ipython",
    "version": 3
   },
   "file_extension": ".py",
   "mimetype": "text/x-python",
   "name": "python",
   "nbconvert_exporter": "python",
   "pygments_lexer": "ipython3",
   "version": "3.9.2"
  }
 },
 "nbformat": 4,
 "nbformat_minor": 5
}
